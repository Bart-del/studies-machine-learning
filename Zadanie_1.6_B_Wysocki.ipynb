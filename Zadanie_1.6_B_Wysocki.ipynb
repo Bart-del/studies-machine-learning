{
  "nbformat": 4,
  "nbformat_minor": 0,
  "metadata": {
    "colab": {
      "name": "Zadanie_1.6_B_Wysocki.ipynb",
      "provenance": [],
      "authorship_tag": "ABX9TyNYLxKbUtPym2oNBtf9QTMd",
      "include_colab_link": true
    },
    "kernelspec": {
      "name": "python3",
      "display_name": "Python 3"
    }
  },
  "cells": [
    {
      "cell_type": "markdown",
      "metadata": {
        "id": "view-in-github",
        "colab_type": "text"
      },
      "source": [
        "<a href=\"https://colab.research.google.com/github/Bart-del/studies-machine-learning/blob/main/Zadanie_1.6_B_Wysocki.ipynb\" target=\"_parent\"><img src=\"https://colab.research.google.com/assets/colab-badge.svg\" alt=\"Open In Colab\"/></a>"
      ]
    },
    {
      "cell_type": "markdown",
      "metadata": {
        "id": "NuaT0mV0jhwR"
      },
      "source": [
        "**<h1>Zadanie 1.6**"
      ]
    },
    {
      "cell_type": "code",
      "metadata": {
        "colab": {
          "base_uri": "https://localhost:8080/"
        },
        "id": "kLbEe3wbjaVP",
        "outputId": "cf5cde06-9012-4435-f511-7723ccac99f6"
      },
      "source": [
        "import numpy as np\r\n",
        "\r\n",
        "X_matrix = np.array([[1,2,3],[1,3,6]])\r\n",
        "y_vector = np.array([[5],[6]])\r\n",
        "\r\n",
        "\r\n",
        "result = np.matmul(np.matmul(np.linalg.inv(np.matmul(X_matrix.T,X_matrix)),X_matrix.T),y_vector)\r\n",
        "result"
      ],
      "execution_count": 28,
      "outputs": [
        {
          "output_type": "execute_result",
          "data": {
            "text/plain": [
              "array([[ 3.75    ],\n",
              "       [ 1.3125  ],\n",
              "       [-0.015625]])"
            ]
          },
          "metadata": {
            "tags": []
          },
          "execution_count": 28
        }
      ]
    }
  ]
}