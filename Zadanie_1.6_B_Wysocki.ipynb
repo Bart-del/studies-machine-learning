{
  "nbformat": 4,
  "nbformat_minor": 0,
  "metadata": {
    "colab": {
      "name": "Zadanie_1.6_B_Wysocki.ipynb",
      "provenance": [],
      "authorship_tag": "ABX9TyPFnRyPJJCYwuk6bpH8Gl23",
      "include_colab_link": true
    },
    "kernelspec": {
      "name": "python3",
      "display_name": "Python 3"
    }
  },
  "cells": [
    {
      "cell_type": "markdown",
      "metadata": {
        "id": "view-in-github",
        "colab_type": "text"
      },
      "source": [
        "<a href=\"https://colab.research.google.com/github/Bart-del/studies-machine-learning/blob/main/Zadanie_1.6_B_Wysocki.ipynb\" target=\"_parent\"><img src=\"https://colab.research.google.com/assets/colab-badge.svg\" alt=\"Open In Colab\"/></a>"
      ]
    },
    {
      "cell_type": "markdown",
      "metadata": {
        "id": "NuaT0mV0jhwR"
      },
      "source": [
        "**<h1>Zadanie 1.6**"
      ]
    },
    {
      "cell_type": "code",
      "metadata": {
        "colab": {
          "base_uri": "https://localhost:8080/"
        },
        "id": "kLbEe3wbjaVP",
        "outputId": "11f556eb-dc18-4780-f088-2bdc01b87bff"
      },
      "source": [
        "import numpy as np\r\n",
        "\r\n",
        "X_matrix = np.array([[1,2,3],[1,3,6]])\r\n",
        "y_vector = np.array([[5],[6]])\r\n",
        "\r\n",
        "\r\n",
        "result = np.matmul(np.matmul(np.linalg.inv(np.matmul(X_matrix.T,X_matrix)),X_matrix.T),y_vector)\r\n",
        "result"
      ],
      "execution_count": 34,
      "outputs": [
        {
          "output_type": "execute_result",
          "data": {
            "text/plain": [
              "array([[ 3.75    ],\n",
              "       [ 1.3125  ],\n",
              "       [-0.015625]])"
            ]
          },
          "metadata": {
            "tags": []
          },
          "execution_count": 34
        }
      ]
    },
    {
      "cell_type": "code",
      "metadata": {
        "colab": {
          "base_uri": "https://localhost:8080/"
        },
        "id": "H7pXUJ_Evb6t",
        "outputId": "b06abdcc-198d-40e9-fc37-d04b26aa6485"
      },
      "source": [
        "import numpy as np\r\n",
        "\r\n",
        "X_matrix = np.array([[1,2,3],[1,3,6]])\r\n",
        "y_vector = np.array([[5],[6]])\r\n",
        "\r\n",
        "\r\n",
        "bracket = np.linalg.inv(np.dot(X_matrix,X_matrix.reshape(3,2)))\r\n",
        "result = np.dot(bracket,X_matrix)\r\n",
        "result = result * y_vector\r\n",
        "result"
      ],
      "execution_count": 51,
      "outputs": [
        {
          "output_type": "execute_result",
          "data": {
            "text/plain": [
              "array([[ 2.375,  2.   , -1.125],\n",
              "       [-1.8  , -1.2  ,  1.8  ]])"
            ]
          },
          "metadata": {
            "tags": []
          },
          "execution_count": 51
        }
      ]
    }
  ]
}