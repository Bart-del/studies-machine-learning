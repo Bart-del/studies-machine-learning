{
  "nbformat": 4,
  "nbformat_minor": 0,
  "metadata": {
    "colab": {
      "name": "Zadanie_14_B_Wysocki.ipynb",
      "provenance": [],
      "authorship_tag": "ABX9TyMTGE4fmjZxCEWUzWNFJJHN",
      "include_colab_link": true
    },
    "kernelspec": {
      "name": "python3",
      "display_name": "Python 3"
    },
    "language_info": {
      "name": "python"
    }
  },
  "cells": [
    {
      "cell_type": "markdown",
      "metadata": {
        "id": "view-in-github",
        "colab_type": "text"
      },
      "source": [
        "<a href=\"https://colab.research.google.com/github/Bart-del/studies-machine-learning/blob/main/Zadanie_14_B_Wysocki.ipynb\" target=\"_parent\"><img src=\"https://colab.research.google.com/assets/colab-badge.svg\" alt=\"Open In Colab\"/></a>"
      ]
    },
    {
      "cell_type": "markdown",
      "metadata": {
        "id": "ueT9zaviSjZQ"
      },
      "source": [
        "Wybierz jeden z przykładów ze strony https://keras.io/examples. Uruchom go i przeanalizuj. Opisz zastosowaną architekturę sieci, omów otrzymane wyniki.\n",
        "\n",
        "Za to zadanie można zdobyć 14 punktów."
      ]
    },
    {
      "cell_type": "markdown",
      "metadata": {
        "id": "K3SbDIq8TMLK"
      },
      "source": [
        "<h1>Rozwiązanie"
      ]
    },
    {
      "cell_type": "markdown",
      "metadata": {
        "id": "6_hRFh1xTOG7"
      },
      "source": [
        "Wybrałem następujący przykład:https://keras.io/examples/vision/image_classification_from_scratch/"
      ]
    },
    {
      "cell_type": "markdown",
      "metadata": {
        "id": "eSHG44G3T9Mm"
      },
      "source": [
        "Model ten clasyfikuje zbiór obrazów na dwa podzbiory, czyli obrazy psów oraz obrazy kotów. Kolejne kroki tworzenia modelu to\n",
        "\n",
        "\n",
        "\n",
        "*   Załadowanie zestawu danych o wielkości 786 MB, która zawiera zdjęcia psów i kotów\n",
        "*  Następnie usuwane są uszkodzone zdjęcia\n",
        "*  Kolejnym krokime jest podzielenie danych na sbiór uczacy i walidacyjny\n",
        "*  Następnie autor zwizualizował przykładowe 9 zdjęć\n",
        "*  Aby zwiększyć wartość treningową danych, autor losowo obraca zdjęcia\n",
        "*  Autor następnie poddaje dane standaryzacji, np. poprzez scalowanie\n",
        "*  W kolejnym kroku autor konfuguruje wstępne pobieranie danych, aby uniknąc przestojów i blokowania\n",
        "* Następnie autor buduje model sieci nauronowej, opartej o funkcję kosztu w postaci binarnej entropii krzyżowej oraz funkcję aktywacji sigmoid w ostatniej warstwie\n",
        "* model trenowany jest przez 50 epok i ostatenicze dochodzi do ~ 96% dokładności w kalsyfikowaniu zdjęć \n",
        "\n"
      ]
    }
  ]
}