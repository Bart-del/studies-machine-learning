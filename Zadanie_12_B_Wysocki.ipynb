{
  "nbformat": 4,
  "nbformat_minor": 0,
  "metadata": {
    "colab": {
      "name": "Zadanie_12_B_Wysocki.ipynb",
      "provenance": [],
      "authorship_tag": "ABX9TyPHZcaOeK1eq75xu3ZtdgNP",
      "include_colab_link": true
    },
    "kernelspec": {
      "name": "python3",
      "display_name": "Python 3"
    },
    "language_info": {
      "name": "python"
    }
  },
  "cells": [
    {
      "cell_type": "markdown",
      "metadata": {
        "id": "view-in-github",
        "colab_type": "text"
      },
      "source": [
        "<a href=\"https://colab.research.google.com/github/Bart-del/studies-machine-learning/blob/main/Zadanie_12_B_Wysocki.ipynb\" target=\"_parent\"><img src=\"https://colab.research.google.com/assets/colab-badge.svg\" alt=\"Open In Colab\"/></a>"
      ]
    },
    {
      "cell_type": "markdown",
      "metadata": {
        "id": "bGV7YTFAmwbp"
      },
      "source": [
        "<h1>Implementacja sieci neuronowych\n",
        "\n",
        "Uruchom przykład Sieci_neuronowe_Keras.ipynb lub Sieci_neuronowe_PyTorch.ipynb z repozytorium z materiałami z zajęć.\n",
        "\n",
        "Posiłkując się dokumentacją (Keras, PyTorch), przeanalizuj kod i odpowiedz na pytania:\n",
        "\n",
        "    W jaki sposób reprezentowane są dane (X_train, X_test, y_train, y_test)?\n",
        "    Jakiej funkcji kosztu użyto?\n",
        "    Jaka jest architektura sieci neuronowej (liczba, rodzaj, rozmiar i kolejność warstw, funkcje aktywacji)?\n",
        "    Czym jest warstwa Dropout i w jakim celu jej użyto?\n"
      ]
    },
    {
      "cell_type": "markdown",
      "metadata": {
        "id": "RmyI_Edim61r"
      },
      "source": [
        "<h3>1.W jaki sposób reprezentowane są dane (X_train, X_test, y_train, y_test)?\n",
        "\n",
        "Kod wczytuje dane z dostępnych datasetów kerasa, w tym przypadku wczytuje 60 000 szarych zdjęć cyfr od 0 do 9. Dodatkowo wczytywane jest zestaw 10 000 obrazów testowych.\n",
        "\n",
        "<h3>2.Jakiej funkcji kosztu użyto?\n",
        "\n",
        "Kategoryczna krzyżowa entropia. \n",
        "\n",
        "<h3>3.Jaka jest architektura sieci neuronowej (liczba, rodzaj, rozmiar i kolejność warstw, funkcje aktywacji)?\n",
        "\n",
        "- 7 warstw,\n",
        "- funkcje aktywacji: relu,softmax\n",
        "- Kolejność warstw: Conv2D, MaxPooling2D,Conv2D,MaxPooling2D,Flatten,Dropout, Dense\n",
        "\n",
        "<h3>4.Czym jest warstwa Dropout i w jakim celu jej użyto?\n",
        "\n",
        "Warstwa Dropout losowo ustawia jednostki wejściowe na 0 z częstotliwością na każdym kroku w czasie treningu, co pomaga zapobiegać nadmiernemu dopasowaniu. Wejścia nieustawione na 0 są skalowane w górę o 1 / (1 - szybkość) tak, że suma wszystkich wejść pozostaje niezmieniona."
      ]
    }
  ]
}