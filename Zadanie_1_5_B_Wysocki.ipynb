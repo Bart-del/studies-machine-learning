{
  "nbformat": 4,
  "nbformat_minor": 0,
  "metadata": {
    "colab": {
      "name": "Zadanie_1.5_B_Wysocki.ipynb",
      "provenance": [],
      "authorship_tag": "ABX9TyMTqKEH7taFvFUppt7p0NdW",
      "include_colab_link": true
    },
    "kernelspec": {
      "name": "python3",
      "display_name": "Python 3"
    }
  },
  "cells": [
    {
      "cell_type": "markdown",
      "metadata": {
        "id": "view-in-github",
        "colab_type": "text"
      },
      "source": [
        "<a href=\"https://colab.research.google.com/github/Bart-del/studies-machine-learning/blob/main/Zadanie_1_5_B_Wysocki.ipynb\" target=\"_parent\"><img src=\"https://colab.research.google.com/assets/colab-badge.svg\" alt=\"Open In Colab\"/></a>"
      ]
    },
    {
      "cell_type": "markdown",
      "metadata": {
        "id": "e1MqkCRCYgIW"
      },
      "source": [
        "**<h1>Zadanie 1.5**\r\n",
        "\r\n",
        ">Czym różni się operacja `A**-1` dla obiektów typu `array` i `matrix`? Pokaż na przykładzie.\r\n",
        "\r\n",
        "Zarówno dla obiektu typu array oraz matrix operacja A**-1 oznacza tzw. inwersję.\r\n",
        "Przebiega ona inaczej dla tych obiektów.\r\n",
        "\r\n",
        "\r\n"
      ]
    },
    {
      "cell_type": "code",
      "metadata": {
        "id": "6KHp5eMyydlN",
        "outputId": "c9dfc3c1-a94c-4d17-9248-b601bf0be5d6",
        "colab": {
          "base_uri": "https://localhost:8080/"
        }
      },
      "source": [
        "import numpy as np\r\n",
        "A = np.array([[1,2,1],[0,2,1],[3,6,1]])\r\n",
        "\r\n",
        "print(np.linalg.inv(A))\r\n",
        "print('--------')\r\n",
        "print(np.linalg.inv(A.T))"
      ],
      "execution_count": 6,
      "outputs": [
        {
          "output_type": "stream",
          "text": [
            "[[ 1.00000000e+00 -1.00000000e+00  1.11022302e-16]\n",
            " [-7.50000000e-01  5.00000000e-01  2.50000000e-01]\n",
            " [ 1.50000000e+00  0.00000000e+00 -5.00000000e-01]]\n",
            "--------\n",
            "[[ 1.   -0.75  1.5 ]\n",
            " [-1.    0.5  -0.  ]\n",
            " [-0.    0.25 -0.5 ]]\n"
          ],
          "name": "stdout"
        }
      ]
    }
  ]
}