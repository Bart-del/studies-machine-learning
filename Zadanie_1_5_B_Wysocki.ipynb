{
  "nbformat": 4,
  "nbformat_minor": 0,
  "metadata": {
    "colab": {
      "name": "Zadanie_1.5_B_Wysocki.ipynb",
      "provenance": [],
      "authorship_tag": "ABX9TyOs7OLrpMXg05teE0pkspra",
      "include_colab_link": true
    },
    "kernelspec": {
      "name": "python3",
      "display_name": "Python 3"
    }
  },
  "cells": [
    {
      "cell_type": "markdown",
      "metadata": {
        "id": "view-in-github",
        "colab_type": "text"
      },
      "source": [
        "<a href=\"https://colab.research.google.com/github/Bart-del/studies-machine-learning/blob/main/Zadanie_1_5_B_Wysocki.ipynb\" target=\"_parent\"><img src=\"https://colab.research.google.com/assets/colab-badge.svg\" alt=\"Open In Colab\"/></a>"
      ]
    },
    {
      "cell_type": "markdown",
      "metadata": {
        "id": "e1MqkCRCYgIW"
      },
      "source": [
        "**<h1>Zadanie 1.5**\r\n",
        "\r\n",
        ">Czym różni się operacja `A**-1` dla obiektów typu `array` i `matrix`? Pokaż na przykładzie.\r\n",
        "\r\n",
        "Zarówno dla obiektu typu array oraz matrix operacja A**-1 oznacza tzw. inwersję.\r\n",
        "Dla obiektu typu array A[1,2,3,4] operacja inwersji zwróci taki obiekt A[4,3,2,1]. Z kolej inwersja dla obiektu typu matrix zachodzi inwersja określona dla macierzy. Inwersja macierzy A[[1,2],[3,4]] zwróci macierz A[[-2, 1][ 1.5, -0.5]].\r\n",
        "\r\n",
        "\r\n"
      ]
    }
  ]
}